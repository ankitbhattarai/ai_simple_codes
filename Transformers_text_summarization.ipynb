{
  "nbformat": 4,
  "nbformat_minor": 0,
  "metadata": {
    "colab": {
      "provenance": []
    },
    "kernelspec": {
      "name": "python3",
      "display_name": "Python 3"
    },
    "language_info": {
      "name": "python"
    }
  },
  "cells": [
    {
      "cell_type": "code",
      "source": [
        "!pip install transformers"
      ],
      "metadata": {
        "id": "cjUMr3eFSw51"
      },
      "execution_count": null,
      "outputs": []
    },
    {
      "cell_type": "code",
      "execution_count": 5,
      "metadata": {
        "id": "EJWmYCm6Roeb"
      },
      "outputs": [],
      "source": [
        "from transformers import pipeline"
      ]
    },
    {
      "cell_type": "code",
      "source": [
        "summarizer = pipeline(\"summarization\", model=\"facebook/bart-large-cnn\")"
      ],
      "metadata": {
        "id": "V-mMQ_9RSIbi"
      },
      "execution_count": null,
      "outputs": []
    },
    {
      "cell_type": "code",
      "source": [
        "article = \"\"\"\n",
        "The bank has been working as a premier rural credit institution since the last three decades, contributing more than 67 percent of the institutional credit\n",
        "supply in the country. Hence, rural finance is the principal operational area of ADBL. It has also been executing Small Farmer Development Program (SFDP),\n",
        "the major poverty alleviation program launched in the country. Furthermore, the bank has also been involved in commercial banking operations since 1984.\n",
        "\"\"\""
      ],
      "metadata": {
        "id": "90nVjCdeSK1w"
      },
      "execution_count": null,
      "outputs": []
    },
    {
      "cell_type": "code",
      "source": [
        "max_len = 50\n",
        "min_len = 25\n",
        "print(summarizer(article, max_length=max_len, min_length=min_len, do_sample=False)[0]['summary_text'])"
      ],
      "metadata": {
        "id": "M5FCpY_KTewa"
      },
      "execution_count": null,
      "outputs": []
    }
  ]
}